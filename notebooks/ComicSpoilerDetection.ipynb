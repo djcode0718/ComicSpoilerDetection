{
  "cells": [
    {
      "cell_type": "markdown",
      "metadata": {
        "id": "IhcNWSlUbOTi"
      },
      "source": [
        "# 📘 Comic Spoiler Detection Demo (Colab Notebook)"
      ]
    },
    {
      "cell_type": "markdown",
      "metadata": {
        "id": "Fx9AJ-mhbXD6"
      },
      "source": [
        "## 🛠️ STEP 1: Install Required Packages\n"
      ]
    },
    {
      "cell_type": "code",
      "execution_count": null,
      "metadata": {
        "id": "pWAqkJBHbGVo"
      },
      "outputs": [],
      "source": [
        "!pip install ultralytics scikit-learn xgboost opencv-python pandas matplotlib --quiet"
      ]
    },
    {
      "cell_type": "markdown",
      "metadata": {
        "id": "u8mjozwmbdyJ"
      },
      "source": [
        "## 📁 STEP 2: Clone the GitHub Repository\n"
      ]
    },
    {
      "cell_type": "code",
      "execution_count": null,
      "metadata": {
        "id": "XPnuMnbNbhEy"
      },
      "outputs": [],
      "source": [
        "!git clone https://github.com/djcode0718/ComicSpoilerDetection.git\n",
        "%cd ComicSpoilerDetection"
      ]
    },
    {
      "cell_type": "markdown",
      "metadata": {
        "id": "lxka0FmlbmOf"
      },
      "source": [
        "## 📦 STEP 3: Load Models"
      ]
    },
    {
      "cell_type": "code",
      "execution_count": null,
      "metadata": {
        "id": "cwW-IsXBboxi"
      },
      "outputs": [],
      "source": [
        "import pickle\n",
        "import os\n",
        "import pandas as pd\n",
        "import matplotlib.pyplot as plt\n",
        "import cv2\n",
        "\n",
        "# Load TF-IDF and XGBoost model\n",
        "with open(\"models/tfidf_vectorizer.pkl\", \"rb\") as f:\n",
        "    tfidf = pickle.load(f)\n",
        "\n",
        "with open(\"models/xgboost_spoiler_classifier.pkl\", \"rb\") as f:\n",
        "    xgb_model = pickle.load(f)\n",
        "\n",
        "print(\"✅ Models loaded successfully\")"
      ]
    },
    {
      "cell_type": "markdown",
      "metadata": {
        "id": "fKsKXDIdbrpn"
      },
      "source": [
        "## 🖼️ STEP 4: View a Test Image"
      ]
    },
    {
      "cell_type": "code",
      "execution_count": null,
      "metadata": {
        "id": "oiP4axd_b4yR"
      },
      "outputs": [],
      "source": [
        "img_path = \"images/0adacd53-c788-470a-8c38-b68449d504a9.jpg\"\n",
        "\n",
        "img = cv2.imread(img_path)\n",
        "img = cv2.cvtColor(img, cv2.COLOR_BGR2RGB)\n",
        "plt.figure(figsize=(6,6))\n",
        "plt.imshow(img)\n",
        "plt.title(\"Test Comic Panel\")\n",
        "plt.axis(\"off\")\n",
        "plt.show()"
      ]
    },
    {
      "cell_type": "markdown",
      "metadata": {
        "id": "vVsqDPQkb7vj"
      },
      "source": [
        "## 🧠 STEP 5: Run a Sample Text Through Classifier"
      ]
    },
    {
      "cell_type": "code",
      "execution_count": null,
      "metadata": {
        "id": "k9klGPRCb-MG"
      },
      "outputs": [],
      "source": [
        "sample_text = \"The hero dies in the final battle saving everyone.\"\n",
        "\n",
        "vectorized = tfidf.transform([sample_text])\n",
        "prediction = xgb_model.predict(vectorized)\n",
        "\n",
        "print(\"🕵️ Spoiler Prediction:\", \"🟥 Spoiler\" if prediction[0] == 1 else \"🟩 Not a Spoiler\")"
      ]
    }
  ],
  "metadata": {
    "colab": {
      "provenance": []
    },
    "kernelspec": {
      "display_name": "Python 3",
      "name": "python3"
    },
    "language_info": {
      "name": "python"
    }
  },
  "nbformat": 4,
  "nbformat_minor": 0
}
