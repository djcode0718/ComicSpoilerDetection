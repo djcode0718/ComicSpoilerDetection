{
  "nbformat": 4,
  "nbformat_minor": 0,
  "metadata": {
    "colab": {
      "provenance": []
    },
    "kernelspec": {
      "name": "python3",
      "display_name": "Python 3"
    },
    "language_info": {
      "name": "python"
    }
  },
  "cells": [
    {
      "cell_type": "markdown",
      "source": [
        "# 📘 Comic Spoiler Detection Demo (Colab Notebook)"
      ],
      "metadata": {
        "id": "ta8PATE_sq4w"
      }
    },
    {
      "cell_type": "markdown",
      "source": [
        "## 🛠️ STEP 1: Install Required Packages\n"
      ],
      "metadata": {
        "id": "THIxOdzXswx6"
      }
    },
    {
      "cell_type": "code",
      "execution_count": null,
      "metadata": {
        "id": "rXkeoLejsqM0"
      },
      "outputs": [],
      "source": [
        "!pip install transformers ultralytics xgboost deepface scikit-learn opencv-python-headless pytesseract\n"
      ]
    },
    {
      "cell_type": "markdown",
      "source": [
        "## 📁 STEP 2: Clone the GitHub Repository\n"
      ],
      "metadata": {
        "id": "KJkUm_KJs2OE"
      }
    },
    {
      "cell_type": "code",
      "source": [
        "!git clone https://github.com/djcode0718/ComicSpoilerDetection.git\n",
        "%cd ComicSpoilerDetection"
      ],
      "metadata": {
        "id": "iGoJ9C8Zs5F3"
      },
      "execution_count": null,
      "outputs": []
    },
    {
      "cell_type": "markdown",
      "source": [
        "## 📦 STEP 3: Load Models"
      ],
      "metadata": {
        "id": "OoL1nCiRs7Iq"
      }
    },
    {
      "cell_type": "code",
      "source": [
        "import cv2\n",
        "import numpy as np\n",
        "import pandas as pd\n",
        "import pytesseract\n",
        "from transformers import pipeline\n",
        "from ultralytics import YOLO\n",
        "import joblib\n",
        "from xgboost import XGBClassifier\n",
        "from deepface.DeepFace import represent\n",
        "from sklearn.cluster import DBSCAN\n",
        "from scipy.spatial.distance import cosine\n",
        "\n",
        "\n",
        "# Set Tesseract path for Colab (Skip if using hosted runtime)\n",
        "!apt install tesseract-ocr -y\n",
        "pytesseract.pytesseract.tesseract_cmd = \"/usr/bin/tesseract\"\n",
        "\n",
        "# Load HuggingFace Pipelines\n",
        "caption_generator = pipeline(\"summarization\", model=\"facebook/bart-large-cnn\")\n",
        "genre_classifier = pipeline(\"zero-shot-classification\", model=\"facebook/bart-large-mnli\")\n",
        "\n",
        "# Load local models (if uploaded to Colab)\n",
        "character_detector = YOLO(\"models/yolov8_comic_characters_detect.pt\")\n",
        "xgboost_model = joblib.load(\"models/xgboost_spoiler_classifier.pkl\")\n",
        "tfidf_vectorizer = joblib.load(\"models/tfidf_vectorizer.pkl\")\n",
        "genre_encoder = joblib.load(\"models/genre_encoder.pkl\")\n",
        "\n",
        "# Define genre labels\n",
        "genre_labels = [\"Sports\", \"Crime\", \"Action\", \"Fantasy\", \"Sci-Fi\", \"Romance\", \"Horror\", \"Comedy\", \"Drama\", \"Mystery\", \"Superhero\"]\n"
      ],
      "metadata": {
        "id": "IBDF0rmms9h-"
      },
      "execution_count": null,
      "outputs": []
    },
    {
      "cell_type": "markdown",
      "source": [
        "## Helper functions\n"
      ],
      "metadata": {
        "id": "DarHTAn5tAGH"
      }
    },
    {
      "cell_type": "code",
      "source": [
        "# 🔹 Feature Extraction Functions\n",
        "def extract_text_from_image(image_path):\n",
        "    \"\"\"Extract text from an image using Tesseract OCR.\"\"\"\n",
        "    image = cv2.imread(image_path)\n",
        "    if image is None:\n",
        "        print(f\"Error: Could not load image {image_path}\")\n",
        "        return \"\"\n",
        "\n",
        "    gray = cv2.cvtColor(image, cv2.COLOR_BGR2GRAY)\n",
        "    text = pytesseract.image_to_string(gray)\n",
        "    return text.strip()\n",
        "\n",
        "def generate_caption(text):\n",
        "    \"\"\"Generate a short caption using BART summarization.\"\"\"\n",
        "    if not text or text.strip() == \"\":\n",
        "        return \"No caption available\"\n",
        "\n",
        "    try:\n",
        "        summary = caption_generator(text, max_length=50, min_length=10, do_sample=False)\n",
        "        return summary[0]['summary_text']\n",
        "    except Exception as e:\n",
        "        print(f\"Error summarizing text: {e}\")\n",
        "        return \"Error generating caption\"\n",
        "\n",
        "def predict_genre(text):\n",
        "    \"\"\"Predict comic genre using BART-based zero-shot classification.\"\"\"\n",
        "    if not text.strip():\n",
        "        return \"Unknown\"\n",
        "\n",
        "    result = genre_classifier(text, genre_labels)\n",
        "    predicted_genre = result[\"labels\"][0]\n",
        "\n",
        "    # Ensure predicted genre is within allowed genres\n",
        "    if predicted_genre not in genre_labels:\n",
        "        predicted_genre = \"Unknown\"\n",
        "\n",
        "    return predicted_genre\n",
        "\n",
        "def get_face_embedding(face):\n",
        "    \"\"\"Extract face embeddings using DeepFace.\"\"\"\n",
        "    try:\n",
        "        face_embedding = represent(face, model_name=\"Facenet\", enforce_detection=False)\n",
        "        return face_embedding[0]['embedding']\n",
        "    except Exception as e:\n",
        "        print(f\"Error extracting face embedding: {e}\")\n",
        "        return None\n",
        "\n",
        "def detect_unique_characters(image_path):\n",
        "    \"\"\"Detect unique characters in a comic page image.\"\"\"\n",
        "    image = cv2.imread(image_path)\n",
        "    if image is None:\n",
        "        print(f\"Error: Could not read image {image_path}\")\n",
        "        return 0\n",
        "\n",
        "    results = character_detector(image)\n",
        "    face_embeddings = []\n",
        "\n",
        "    # Extract detected characters\n",
        "    for result in results:\n",
        "        for box in result.boxes.xyxy:\n",
        "            x1, y1, x2, y2 = map(int, box)\n",
        "            face = image[y1:y2, x1:x2]\n",
        "            if face.size == 0:\n",
        "                continue\n",
        "\n",
        "            embedding = get_face_embedding(face)\n",
        "            if embedding is not None:\n",
        "                face_embeddings.append(embedding)\n",
        "\n",
        "    if not face_embeddings:\n",
        "        print(\"Unique characters detected: 0\")\n",
        "        return 0\n",
        "\n",
        "    # Cluster face embeddings to identify unique characters\n",
        "    clustering = DBSCAN(metric=cosine, eps=0.5, min_samples=1)\n",
        "    labels = clustering.fit_predict(face_embeddings)\n",
        "\n",
        "    unique_characters = len(set(labels))\n",
        "    print(f\"Unique characters detected: {unique_characters}\")\n",
        "    return unique_characters\n",
        "\n",
        "# 🔹 Spoiler Prediction Function\n",
        "def predict_spoiler(image_path):\n",
        "    \"\"\"Predict whether a comic panel contains a spoiler.\"\"\"\n",
        "    print(f\"Processing image: {image_path}...\")\n",
        "\n",
        "    # Step 1: Extract text\n",
        "    extracted_text = extract_text_from_image(image_path)\n",
        "    print(f\"Extracted Text: {extracted_text}\")\n",
        "\n",
        "    # Step 2: Generate Caption\n",
        "    caption = generate_caption(extracted_text)\n",
        "    print(f\"Generated Caption: {caption}\")\n",
        "\n",
        "    # Step 3: Predict Genre\n",
        "    genre = predict_genre(extracted_text)\n",
        "    print(f\"Predicted Genre: {genre}\")\n",
        "\n",
        "    # Step 4: Count Unique Characters\n",
        "    unique_character_count = detect_unique_characters(image_path)\n",
        "    print(f\"Unique Character Count: {unique_character_count}\")\n",
        "\n",
        "    # Step 5: Encode Genre\n",
        "    if genre in genre_encoder.classes_:\n",
        "        genre_encoded = genre_encoder.transform([genre])[0]\n",
        "    else:\n",
        "        genre_encoded = -1  # Assign a default value for unknown genres\n",
        "\n",
        "    # Step 6: Convert Caption to TF-IDF Features\n",
        "    caption_features = tfidf_vectorizer.transform([caption]).toarray()  # Shape (1, 500)\n",
        "\n",
        "    # Step 7: Fix Dimension Mismatch\n",
        "    numeric_features = np.array([[unique_character_count, genre_encoded]])  # Shape (1, 2)\n",
        "    X_input = np.hstack((numeric_features, caption_features))  # Shape (1, 502)\n",
        "\n",
        "    # Step 8: Ensure Correct Shape Before Prediction\n",
        "    X_input = np.array(X_input).reshape(1, -1)  # Ensure 2D array shape (1, 502)\n",
        "\n",
        "    # Step 9: Predict Spoiler\n",
        "    prediction = xgboost_model.predict(X_input)[0]\n",
        "\n",
        "    # Step 10: Interpret Prediction\n",
        "    label_mapping = {0: \"Unknown\", 1: \"🟩 Non-Spoiler\", 2: \"🟥 Spoiler\"}\n",
        "    print(label_mapping.get(prediction, \"Unknown\"))"
      ],
      "metadata": {
        "id": "3-Bh5vE2tGsu"
      },
      "execution_count": null,
      "outputs": []
    },
    {
      "cell_type": "markdown",
      "source": [
        "## 🖼️ STEP 4: View a Test Image"
      ],
      "metadata": {
        "id": "orU5JbRvtJoe"
      }
    },
    {
      "cell_type": "code",
      "source": [
        "import matplotlib.pyplot as plt\n",
        "img_path = \"images/0adacd53-c788-470a-8c38-b68449d504a9.jpg\"\n",
        "\n",
        "img = cv2.imread(img_path)\n",
        "img = cv2.cvtColor(img, cv2.COLOR_BGR2RGB)\n",
        "plt.figure(figsize=(6,6))\n",
        "plt.imshow(img)\n",
        "plt.title(\"Test Comic Panel\")\n",
        "plt.axis(\"off\")\n",
        "plt.show()"
      ],
      "metadata": {
        "id": "-i3dIM4ftMca"
      },
      "execution_count": null,
      "outputs": []
    },
    {
      "cell_type": "markdown",
      "source": [
        "## 🧠 STEP 5: Predict the spoiler"
      ],
      "metadata": {
        "id": "VD8q56DftPGe"
      }
    },
    {
      "cell_type": "code",
      "source": [
        "predict_spoiler(img_path)\n",
        "\n"
      ],
      "metadata": {
        "id": "ppMfWQ69tT73"
      },
      "execution_count": null,
      "outputs": []
    },
    {
      "cell_type": "code",
      "source": [
        "import matplotlib.pyplot as plt\n",
        "img_path = \"images/002a6441-5424-4f66-8998-d74a052b92ec (1).jpg\"\n",
        "\n",
        "img = cv2.imread(img_path)\n",
        "img = cv2.cvtColor(img, cv2.COLOR_BGR2RGB)\n",
        "plt.figure(figsize=(6,6))\n",
        "plt.imshow(img)\n",
        "plt.title(\"Test Comic Panel\")\n",
        "plt.axis(\"off\")\n",
        "plt.show()"
      ],
      "metadata": {
        "id": "WVwljvO0tXMa"
      },
      "execution_count": null,
      "outputs": []
    },
    {
      "cell_type": "code",
      "source": [
        "predict_spoiler(img_path)"
      ],
      "metadata": {
        "id": "4TrSGKqZtcW6"
      },
      "execution_count": null,
      "outputs": []
    }
  ]
}